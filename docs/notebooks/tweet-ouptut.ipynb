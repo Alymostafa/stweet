{
 "cells": [
  {
   "cell_type": "markdown",
   "metadata": {},
   "source": [
    "# Tweet output"
   ]
  },
  {
   "cell_type": "markdown",
   "metadata": {},
   "source": [
    "`TweetOutput` is as generic class which can export scrapped tweets.\n",
    "\n",
    "Under the hood it has abstract method `export_tweets(tweets: List[Tweet])`."
   ]
  },
  {
   "cell_type": "markdown",
   "metadata": {},
   "source": [
    "There are few implementations of `TweetOutput`"
   ]
  },
  {
   "cell_type": "code",
   "execution_count": 1,
   "metadata": {},
   "outputs": [],
   "source": [
    "import stweet as st"
   ]
  },
  {
   "cell_type": "markdown",
   "metadata": {},
   "source": [
    "## PrintTweetOutput"
   ]
  },
  {
   "cell_type": "markdown",
   "metadata": {},
   "source": [
    "PrintTweetOutput prints all tweets in console. It does not store tweets anywhere."
   ]
  },
  {
   "cell_type": "code",
   "execution_count": 11,
   "metadata": {},
   "outputs": [],
   "source": [
    "st.PrintTweetOutput();"
   ]
  },
  {
   "cell_type": "markdown",
   "metadata": {},
   "source": [
    "## CollectorTweetOutput"
   ]
  },
  {
   "cell_type": "markdown",
   "metadata": {},
   "source": [
    "CollectorTweetOutput stores all tweets in memory. This solution is best way when we want to analyse small part of tweets.\n",
    "\n",
    "To get all tweets run method `get_scrapped_tweets()`"
   ]
  },
  {
   "cell_type": "code",
   "execution_count": 10,
   "metadata": {},
   "outputs": [],
   "source": [
    "st.CollectorTweetOutput();"
   ]
  },
  {
   "cell_type": "markdown",
   "metadata": {},
   "source": [
    "## CsvTweetOutput"
   ]
  },
  {
   "cell_type": "markdown",
   "metadata": {},
   "source": [
    "`CsvTweetOutput` stores tweets in csv file. It has two parameters `file_location` and `add_header_on_start`.\n",
    "\n",
    "When `add_header_on_start` is `True` header is adding only when file is empty. It is possible to continue storing the tweets in file in next tasks. "
   ]
  },
  {
   "cell_type": "code",
   "execution_count": 13,
   "metadata": {},
   "outputs": [],
   "source": [
    "st.CsvTweetOutput(\n",
    "    file_location='my_csv_file.csv',\n",
    "    add_header_on_start=True\n",
    ");"
   ]
  },
  {
   "cell_type": "markdown",
   "metadata": {},
   "source": [
    "## JsonLineFileTweetOutput"
   ]
  },
  {
   "cell_type": "markdown",
   "metadata": {},
   "source": [
    "`JsonLineFileTweetOutput` stores tweets in file in json lines. This solution is better because it can be problem with fast saving new tweet in large files, also it can be problem with reading. Using json lines it is possible to read line by line, without read whole document into memory.\n",
    "\n",
    "Class have only one property – `file_name`, this is the file to store tweets in json line format."
   ]
  },
  {
   "cell_type": "code",
   "execution_count": 16,
   "metadata": {},
   "outputs": [],
   "source": [
    "st.JsonLineFileTweetOutput(\n",
    "    file_name='my_jl_file.jl'\n",
    ");"
   ]
  },
  {
   "cell_type": "markdown",
   "metadata": {},
   "source": [
    "## PrintEveryNTweetOutput"
   ]
  },
  {
   "cell_type": "markdown",
   "metadata": {},
   "source": [
    "`PrintEveryNTweetOutput` print event N-th scrapped tweet. This is best solution to track that new tweets are scrapping.\n",
    "\n",
    "Class have only one parameter – `each_n`, this is the N value described above."
   ]
  },
  {
   "cell_type": "code",
   "execution_count": 17,
   "metadata": {},
   "outputs": [],
   "source": [
    "st.PrintEveryNTweetOutput(\n",
    "    each_n=1000\n",
    ");"
   ]
  },
  {
   "cell_type": "markdown",
   "metadata": {},
   "source": [
    "## PrintFirstInRequestTweetOutput"
   ]
  },
  {
   "cell_type": "markdown",
   "metadata": {},
   "source": [
    "PrintFirstInRequestTweetOutput is a debug TweetOutput. It allow to track every request and shows the first part of response."
   ]
  },
  {
   "cell_type": "code",
   "execution_count": 19,
   "metadata": {},
   "outputs": [],
   "source": [
    "st.PrintFirstInRequestTweetOutput();"
   ]
  }
 ],
 "metadata": {
  "kernelspec": {
   "display_name": "Python 3",
   "language": "python",
   "name": "python3"
  },
  "language_info": {
   "codemirror_mode": {
    "name": "ipython",
    "version": 3
   },
   "file_extension": ".py",
   "mimetype": "text/x-python",
   "name": "python",
   "nbconvert_exporter": "python",
   "pygments_lexer": "ipython3",
   "version": "3.8.3"
  }
 },
 "nbformat": 4,
 "nbformat_minor": 4
}
