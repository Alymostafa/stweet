{
 "cells": [
  {
   "cell_type": "markdown",
   "metadata": {},
   "source": [
    "# Scrap tweets by ids"
   ]
  },
  {
   "cell_type": "code",
   "execution_count": 2,
   "metadata": {},
   "outputs": [],
   "source": [
    "import stweet as st"
   ]
  },
  {
   "cell_type": "markdown",
   "metadata": {},
   "source": [
    "## Prepare task"
   ]
  },
  {
   "cell_type": "markdown",
   "metadata": {},
   "source": [
    "Task named `TweetsByIdsRunner` has only one property, which define tweet ids – `tweet_ids: List[str]`.\n"
   ]
  },
  {
   "cell_type": "code",
   "execution_count": 15,
   "metadata": {},
   "outputs": [],
   "source": [
    "task = st.TweetsByIdsTask(['1357358278746005508', '1115978039534297088', '56546745646545646574'])"
   ]
  },
  {
   "cell_type": "markdown",
   "metadata": {},
   "source": [
    "## Prepate TweetOutputs"
   ]
  },
  {
   "cell_type": "markdown",
   "metadata": {},
   "source": [
    "Tweet output collect the result of scrapped tweets."
   ]
  },
  {
   "cell_type": "code",
   "execution_count": 16,
   "metadata": {},
   "outputs": [],
   "source": [
    "tweet_outputs = [st.PrintTweetOutput()]"
   ]
  },
  {
   "cell_type": "markdown",
   "metadata": {},
   "source": [
    "## Example task execution"
   ]
  },
  {
   "cell_type": "markdown",
   "metadata": {},
   "source": [
    "`TweetsByIdsRunner` scrap tweets by id. Runner needs always `tweets_by_ids_task` and `tweet_outputs`.\n",
    "This is all properties of `TweetsByIdsRunner`:\n",
    " - **`tweets_by_ids_task: TweetsByIdsTask`** – task with tweets to scrap definition\n",
    " - **`tweet_outputs: List[TweetOutput]`** – objects to export scrapped tweets\n",
    " - **`tweets_by_ids_context: Optional[TweetsByIdsContext] = None`** – context of scrapping, it can continoue the paused scrapping or put initial auth token, if None the basic context is provided\n",
    " - **`web_client: WebClient = RequestsWebClient()`** – client to execute web connections, here can be configure proxy connection for example\n",
    " - **`tweet_parser: TweetParser = BaseTweetParser()`** – parser of tweet response from Twitter\n",
    " - **`auth_token_provider_factory: AuthTokenProviderFactory = SimpleAuthTokenProviderFactory()`** – provider of auth token"
   ]
  },
  {
   "cell_type": "code",
   "execution_count": 17,
   "metadata": {},
   "outputs": [
    {
     "name": "stdout",
     "output_type": "stream",
     "text": [
      "Tweet(created_at=<Arrow [2021-02-04T16:00:06+00:00]>, id_str='1357358278746005508', conversation_id_str='1357358278746005508', full_text='Extending the moratorium on evictions and foreclosures to help countless Americans keep a roof over their head — that’s the American Rescue Plan. https://t.co/Xbviqqr47w', lang='en', favorited=False, retweeted=False, retweet_count=6274, favorite_count=43411, reply_count=3334, quote_count=365, quoted_status_id_str='', quoted_status_short_url='', quoted_status_expand_url='', user_id_str='1349149096909668363', user_name='POTUS', user_full_name='President Biden', user_verified=True, in_reply_to_status_id_str='', in_reply_to_user_id_str='', media=[Media(url='https://pbs.twimg.com/media/EtZOKUiWgAIeqtD.jpg', type='photo')], hashtags=[], mentions=[], urls=[])\n",
      "Tweet(created_at=<Arrow [2019-04-10T14:01:13+00:00]>, id_str='1115978039534297088', conversation_id_str='1115978039534297088', full_text='ブラックホールの画像にめちゃくちゃ既視感があったので、ナンだろうと思ったら、心筋シンチの短軸断層像だった。これからするとブラックホールは前壁中隔の虚血が疑われますね。冠動脈造影検査が考慮されます。 https://t.co/8aa4lbiGNt', lang='ja', favorited=False, retweeted=False, retweet_count=2429, favorite_count=4666, reply_count=12, quote_count=41, quoted_status_id_str='', quoted_status_short_url='', quoted_status_expand_url='', user_id_str='119999913', user_name='naikabucho', user_full_name='内科部長（脱メタル）', user_verified=False, in_reply_to_status_id_str='', in_reply_to_user_id_str='', media=[Media(url='https://pbs.twimg.com/media/D3y6-_7UwAIvHtm.jpg', type='photo'), Media(url='https://pbs.twimg.com/media/D3y8KwvUwAEy0A4.jpg', type='photo')], hashtags=[], mentions=[], urls=[])\n"
     ]
    }
   ],
   "source": [
    "run_result = st.TweetsByIdsRunner(task, tweet_outputs).run()"
   ]
  },
  {
   "cell_type": "markdown",
   "metadata": {},
   "source": [
    "The result of task show how many tweets scrapped and how many can't."
   ]
  },
  {
   "cell_type": "code",
   "execution_count": 18,
   "metadata": {},
   "outputs": [
    {
     "data": {
      "text/plain": [
       "TweetsByIdsResult(downloaded_count=2, tweet_ids_not_scrapped=['56546745646545646574'])"
      ]
     },
     "execution_count": 18,
     "metadata": {},
     "output_type": "execute_result"
    }
   ],
   "source": [
    "run_result"
   ]
  },
  {
   "cell_type": "code",
   "execution_count": null,
   "metadata": {},
   "outputs": [],
   "source": []
  }
 ],
 "metadata": {
  "kernelspec": {
   "display_name": "Python 3",
   "language": "python",
   "name": "python3"
  },
  "language_info": {
   "codemirror_mode": {
    "name": "ipython",
    "version": 3
   },
   "file_extension": ".py",
   "mimetype": "text/x-python",
   "name": "python",
   "nbconvert_exporter": "python",
   "pygments_lexer": "ipython3",
   "version": "3.8.3"
  }
 },
 "nbformat": 4,
 "nbformat_minor": 4
}
