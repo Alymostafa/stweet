{
 "cells": [
  {
   "cell_type": "markdown",
   "metadata": {},
   "source": [
    "# Scrap tweets by ids"
   ]
  },
  {
   "cell_type": "code",
   "execution_count": null,
   "metadata": {},
   "outputs": [],
   "source": [
    "import stweet as st"
   ]
  },
  {
   "cell_type": "markdown",
   "metadata": {},
   "source": [
    "## Prepare task"
   ]
  },
  {
   "cell_type": "markdown",
   "metadata": {},
   "source": [
    "Task named `TweetsByIdsRunner` has only one property, which define tweet ids – `tweet_ids: List[str]`.\n"
   ]
  },
  {
   "cell_type": "code",
   "execution_count": null,
   "metadata": {},
   "outputs": [],
   "source": [
    "task = st.TweetsByIdsTask(['1357358278746005508', '1115978039534297088', '56546745646545646574'])"
   ]
  },
  {
   "cell_type": "markdown",
   "metadata": {},
   "source": [
    "## Prepate TweetOutputs"
   ]
  },
  {
   "cell_type": "markdown",
   "metadata": {},
   "source": [
    "Tweet output collect the result of scrapped tweets."
   ]
  },
  {
   "cell_type": "code",
   "execution_count": null,
   "metadata": {},
   "outputs": [],
   "source": [
    "tweet_outputs = [st.PrintTweetOutput()]"
   ]
  },
  {
   "cell_type": "markdown",
   "metadata": {},
   "source": [
    "## Example task execution"
   ]
  },
  {
   "cell_type": "markdown",
   "metadata": {},
   "source": [
    "`TweetsByIdsRunner` scrap tweets by id. Runner needs always `tweets_by_ids_task` and `tweet_outputs`.\n",
    "This is all properties of `TweetsByIdsRunner`:\n",
    " - **`tweets_by_ids_task: TweetsByIdsTask`** – task with tweets to scrap definition\n",
    " - **`tweet_outputs: List[TweetOutput]`** – objects to export scrapped tweets\n",
    " - **`tweets_by_ids_context: Optional[TweetsByIdsContext] = None`** – context of scrapping, it can continoue the paused scrapping or put initial auth token, if None the basic context is provided\n",
    " - **`web_client: WebClient = RequestsWebClient()`** – client to execute web connections, here can be configure proxy connection for example\n",
    " - **`tweet_parser: TweetParser = BaseTweetParser()`** – parser of tweet response from Twitter\n",
    " - **`auth_token_provider_factory: AuthTokenProviderFactory = SimpleAuthTokenProviderFactory()`** – provider of auth token"
   ]
  },
  {
   "cell_type": "code",
   "execution_count": null,
   "metadata": {},
   "outputs": [],
   "source": [
    "run_result = st.TweetsByIdsRunner(task, tweet_outputs).run()"
   ]
  },
  {
   "cell_type": "markdown",
   "metadata": {},
   "source": [
    "The result of task show how many tweets scrapped and how many can't."
   ]
  },
  {
   "cell_type": "code",
   "execution_count": null,
   "metadata": {},
   "outputs": [],
   "source": [
    "run_result"
   ]
  },
  {
   "cell_type": "code",
   "execution_count": null,
   "metadata": {},
   "outputs": [],
   "source": []
  }
 ],
 "metadata": {
  "kernelspec": {
   "display_name": "Python 3",
   "language": "python",
   "name": "python3"
  },
  "language_info": {
   "codemirror_mode": {
    "name": "ipython",
    "version": 3
   },
   "file_extension": ".py",
   "mimetype": "text/x-python",
   "name": "python",
   "nbconvert_exporter": "python",
   "pygments_lexer": "ipython3",
   "version": "3.8.3"
  }
 },
 "nbformat": 4,
 "nbformat_minor": 4
}
