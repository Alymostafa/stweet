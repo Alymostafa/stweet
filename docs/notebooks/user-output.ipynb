{
 "cells": [
  {
   "cell_type": "markdown",
   "metadata": {},
   "source": [
    "# UserOutput"
   ]
  },
  {
   "cell_type": "markdown",
   "metadata": {},
   "source": [
    "`UserOutput` is as generic class which can export scrapped users.\n",
    "\n",
    "Under the hood it has abstract method `export_users(users: List[User])`."
   ]
  },
  {
   "cell_type": "markdown",
   "metadata": {},
   "source": [
    "There are few implementations of `UserOutput`"
   ]
  },
  {
   "cell_type": "code",
   "execution_count": null,
   "metadata": {},
   "outputs": [],
   "source": [
    "import stweet as st"
   ]
  },
  {
   "cell_type": "markdown",
   "metadata": {},
   "source": [
    "## PrintUserOutput"
   ]
  },
  {
   "cell_type": "markdown",
   "metadata": {},
   "source": [
    "`PrintUserOutput` prints all scrapper user."
   ]
  },
  {
   "cell_type": "code",
   "execution_count": null,
   "metadata": {},
   "outputs": [],
   "source": [
    "st.PrintUserOutput();"
   ]
  },
  {
   "cell_type": "markdown",
   "metadata": {},
   "source": [
    "## CollectorUserOutput"
   ]
  },
  {
   "cell_type": "markdown",
   "metadata": {},
   "source": [
    "`CollectorUserOutput` collect users in memory. This is the best option when sbd need to process small part of tweets.\n",
    "\n",
    "To get all tweets you need to run `get_scrapped_users()`."
   ]
  },
  {
   "cell_type": "code",
   "execution_count": null,
   "metadata": {},
   "outputs": [],
   "source": [
    "st.CollectorUserOutput();"
   ]
  },
  {
   "cell_type": "markdown",
   "metadata": {},
   "source": [
    "## CsvUserOutput"
   ]
  },
  {
   "cell_type": "markdown",
   "metadata": {},
   "source": [
    "`CsvUserOutput` stores users in csv file. It has two parameters `file_location` and `add_header_on_start`.\n",
    "\n",
    "When `add_header_on_start` is `True` header is adding only when file is empty. It is possible to continue storing the users in file in next tasks. "
   ]
  },
  {
   "cell_type": "code",
   "execution_count": null,
   "metadata": {},
   "outputs": [],
   "source": [
    "st.CsvUserOutput(\n",
    "    file_location='my_csv_file.csv',\n",
    "    add_header_on_start=True\n",
    ");"
   ]
  },
  {
   "cell_type": "markdown",
   "metadata": {},
   "source": [
    "## JsonLineFileUserOutput"
   ]
  },
  {
   "cell_type": "markdown",
   "metadata": {},
   "source": [
    "`JsonLineFileUserOutput` stores users in file in json lines. This solution is better because it can be problem with fast saving new user in large files, also it can be problem with reading. Using json lines it is possible to read line by line, without read whole document into memory.\n",
    "\n",
    "Class have only one property – `file_name`, this is the file to store users in json line format."
   ]
  },
  {
   "cell_type": "code",
   "execution_count": null,
   "metadata": {},
   "outputs": [],
   "source": [
    "st.JsonLineFileUserOutput(\n",
    "    file_name='my_jl_file.jl'\n",
    ");"
   ]
  },
  {
   "cell_type": "markdown",
   "metadata": {},
   "source": [
    "## PrintEveryNUserOutput"
   ]
  },
  {
   "cell_type": "markdown",
   "metadata": {},
   "source": [
    "`PrintEveryNUserOutput` print event N-th scrapped user. This is best solution to track that new users are scrapping.\n",
    "\n",
    "Class have only one parameter – `each_n`, this is the N value described above."
   ]
  },
  {
   "cell_type": "code",
   "execution_count": null,
   "metadata": {},
   "outputs": [],
   "source": [
    "st.PrintEveryNUserOutput(\n",
    "    each_n=100\n",
    ");"
   ]
  }
 ],
 "metadata": {
  "kernelspec": {
   "display_name": "Python 3",
   "language": "python",
   "name": "python3"
  },
  "language_info": {
   "codemirror_mode": {
    "name": "ipython",
    "version": 3
   },
   "file_extension": ".py",
   "mimetype": "text/x-python",
   "name": "python",
   "nbconvert_exporter": "python",
   "pygments_lexer": "ipython3",
   "version": "3.8.3"
  }
 },
 "nbformat": 4,
 "nbformat_minor": 4
}
