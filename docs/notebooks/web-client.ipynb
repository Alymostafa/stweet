{
 "cells": [
  {
   "cell_type": "markdown",
   "metadata": {},
   "source": [
    "# Web client"
   ]
  },
  {
   "cell_type": "markdown",
   "metadata": {},
   "source": [
    "Stweet has abstract layer of web client called `WebClient`. This abstract class has one easy method to call every request – `run_request`. Library has also simple classes to perform http request domain, like `RequestDetails` or `RequestResponse`. "
   ]
  },
  {
   "cell_type": "markdown",
   "metadata": {},
   "source": [
    "## RequestsWebClient"
   ]
  },
  {
   "cell_type": "markdown",
   "metadata": {},
   "source": [
    "`RequestsWebClient` is the main implementation of `WebClient` based on `requests` implementation. \n",
    "`Requests` is one of the most popular library to run http requests.\n",
    "\n",
    "RequestsWebClient has many features like: \n",
    " - basic http client\n",
    " - proxy\n",
    " - certificate verification"
   ]
  },
  {
   "cell_type": "markdown",
   "metadata": {},
   "source": [
    "Constructor of RequestsWebClient have properties:\n",
    " - **`proxy: Optional[RequestsWebClientProxyConfig] = None`** – proxy config, when None requests run without proxy\n",
    " - **`verify: bool = True`** – verification SSL cert, when no library does not check cert"
   ]
  },
  {
   "cell_type": "markdown",
   "metadata": {},
   "source": [
    "## RequestsWebClientProxyConfig"
   ]
  },
  {
   "cell_type": "markdown",
   "metadata": {},
   "source": [
    "Config of proxy in RequestsWebClient. It is classic dataclass. Has properties:\n",
    " - **`http_proxy: str`** – address of http proxy\n",
    " - **`https_proxy: str`** – address of https proxy"
   ]
  },
  {
   "cell_type": "code",
   "execution_count": null,
   "metadata": {},
   "outputs": [],
   "source": []
  }
 ],
 "metadata": {
  "kernelspec": {
   "display_name": "Python 3",
   "language": "python",
   "name": "python3"
  },
  "language_info": {
   "codemirror_mode": {
    "name": "ipython",
    "version": 3
   },
   "file_extension": ".py",
   "mimetype": "text/x-python",
   "name": "python",
   "nbconvert_exporter": "python",
   "pygments_lexer": "ipython3",
   "version": "3.8.3"
  }
 },
 "nbformat": 4,
 "nbformat_minor": 4
}
