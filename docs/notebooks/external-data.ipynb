{
 "cells": [
  {
   "cell_type": "markdown",
   "metadata": {},
   "source": [
    "# External data"
   ]
  },
  {
   "cell_type": "markdown",
   "metadata": {},
   "source": [
    "This module show how to manage tweets with external files."
   ]
  },
  {
   "cell_type": "markdown",
   "metadata": {},
   "source": [
    "Library have 2 domain objects:\n",
    " - Tweet\n",
    " - User\n",
    "\n",
    "This objects are DTO's of data scrapped with stweet library."
   ]
  },
  {
   "cell_type": "code",
   "execution_count": 1,
   "metadata": {},
   "outputs": [],
   "source": [
    "import stweet as st\n",
    "from typing import List"
   ]
  },
  {
   "cell_type": "code",
   "execution_count": 2,
   "metadata": {},
   "outputs": [],
   "source": [
    "def get_some_tweets() -> List[st.Tweet]:\n",
    "    task = st.SearchTweetsTask('#covid19', tweets_limit=10)\n",
    "    tweets_collector = st.CollectorTweetOutput()\n",
    "    st.TweetSearchRunner(task, [tweets_collector]).run()\n",
    "    return tweets_collector.get_scrapped_tweets()"
   ]
  },
  {
   "cell_type": "code",
   "execution_count": 3,
   "metadata": {},
   "outputs": [],
   "source": [
    "def get_some_users() -> List[st.Tweet]:\n",
    "    usernames = ['ProtasiewiczJ', 'donaldtuskEPP']\n",
    "    task = st.GetUsersTask(usernames)\n",
    "    user_collector = st.CollectorUserOutput()\n",
    "    task_result = st.GetUsersRunner(task, [user_collector]).run()\n",
    "    return user_collector.get_scrapped_users()"
   ]
  },
  {
   "cell_type": "code",
   "execution_count": 4,
   "metadata": {},
   "outputs": [],
   "source": [
    "some_tweets = get_some_tweets()\n",
    "some_users = get_some_users()"
   ]
  },
  {
   "cell_type": "markdown",
   "metadata": {},
   "source": [
    "## Tweet"
   ]
  },
  {
   "cell_type": "markdown",
   "metadata": {},
   "source": [
    "Currently there are two external storage of tweets:\n",
    " - CSV file\n",
    " - JSON lines file\n",
    " \n",
    "All formats have import and export methods."
   ]
  },
  {
   "cell_type": "markdown",
   "metadata": {},
   "source": [
    "### Export tweets to CSV file"
   ]
  },
  {
   "cell_type": "markdown",
   "metadata": {},
   "source": [
    "Method `export_tweets_to_csv` needs two parameters:\n",
    " - **`tweets: List[Tweet]`** – list of tweets to export\n",
    " - **`filename: str`** – destination file"
   ]
  },
  {
   "cell_type": "code",
   "execution_count": 5,
   "metadata": {},
   "outputs": [],
   "source": [
    "st.export_tweets_to_csv(some_tweets, 'tweets.csv')"
   ]
  },
  {
   "cell_type": "markdown",
   "metadata": {},
   "source": [
    "### Export tweets to JSON line file"
   ]
  },
  {
   "cell_type": "markdown",
   "metadata": {},
   "source": [
    "Method `export_tweets_to_json_lines` needs two parameters:\n",
    " - **`tweets: List[Tweet]`** – list of tweets to export\n",
    " - **`filename: str`** – destination file"
   ]
  },
  {
   "cell_type": "code",
   "execution_count": 6,
   "metadata": {},
   "outputs": [],
   "source": [
    "st.export_tweets_to_json_lines(some_tweets, 'tweets.jl')"
   ]
  },
  {
   "cell_type": "markdown",
   "metadata": {},
   "source": [
    "### Import tweets from CSV file"
   ]
  },
  {
   "cell_type": "markdown",
   "metadata": {},
   "source": [
    "Method `read_tweets_from_csv_file` have parameter:\n",
    " - **`file_path: str`** – destination file\n",
    " \n",
    "Method returns `List[Tweet]`"
   ]
  },
  {
   "cell_type": "code",
   "execution_count": 7,
   "metadata": {},
   "outputs": [],
   "source": [
    "tweets = st.read_tweets_from_csv_file('tweets.csv')"
   ]
  },
  {
   "cell_type": "markdown",
   "metadata": {},
   "source": [
    "### Import tweets from JSON lines file"
   ]
  },
  {
   "cell_type": "markdown",
   "metadata": {},
   "source": [
    "Method `read_tweets_from_json_lines_file` have parameter:\n",
    " - **`file_path: str`** – destination file\n",
    " \n",
    "Method returns `List[Tweet]`"
   ]
  },
  {
   "cell_type": "code",
   "execution_count": 8,
   "metadata": {},
   "outputs": [],
   "source": [
    "tweets = st.read_tweets_from_json_lines_file('tweets.jl')"
   ]
  },
  {
   "cell_type": "markdown",
   "metadata": {},
   "source": [
    "## User"
   ]
  },
  {
   "cell_type": "markdown",
   "metadata": {},
   "source": [
    "Currently there are two external storage of users:\n",
    " - CSV file\n",
    " - JSON lines file\n",
    " \n",
    "All formats have import and export methods."
   ]
  },
  {
   "cell_type": "markdown",
   "metadata": {},
   "source": [
    "### Export users to CSV file"
   ]
  },
  {
   "cell_type": "markdown",
   "metadata": {},
   "source": [
    "Method `export_users_to_csv` needs two parameters:\n",
    " - **`users: List[User]`** – list of users to export\n",
    " - **`filename: str`** – destination file"
   ]
  },
  {
   "cell_type": "code",
   "execution_count": 9,
   "metadata": {},
   "outputs": [],
   "source": [
    "st.export_users_to_csv(some_users, 'users.csv')"
   ]
  },
  {
   "cell_type": "markdown",
   "metadata": {},
   "source": [
    "### Export users to JSON line file"
   ]
  },
  {
   "cell_type": "markdown",
   "metadata": {},
   "source": [
    "Method `export_users_to_json_lines` needs two parameters:\n",
    " - **`users: List[User]`** – list of users to export\n",
    " - **`filename: str`** – destination file"
   ]
  },
  {
   "cell_type": "code",
   "execution_count": 10,
   "metadata": {},
   "outputs": [],
   "source": [
    "st.export_users_to_json_lines(some_users, 'users.jl')"
   ]
  },
  {
   "cell_type": "markdown",
   "metadata": {},
   "source": [
    "### Import users from CSV file"
   ]
  },
  {
   "cell_type": "markdown",
   "metadata": {},
   "source": [
    "Method `read_users_from_csv_file` have parameter:\n",
    " - **`file_path: str`** – destination file\n",
    " \n",
    "Method returns `List[User]`"
   ]
  },
  {
   "cell_type": "code",
   "execution_count": 11,
   "metadata": {},
   "outputs": [],
   "source": [
    "users = st.read_users_from_csv_file('users.csv')"
   ]
  },
  {
   "cell_type": "markdown",
   "metadata": {},
   "source": [
    "### Import users from JSON lines file"
   ]
  },
  {
   "cell_type": "markdown",
   "metadata": {},
   "source": [
    "Method `read_users_from_json_lines_file` have parameter:\n",
    " - **`file_path: str`** – destination file\n",
    " \n",
    "Method returns `List[User]`"
   ]
  },
  {
   "cell_type": "code",
   "execution_count": 12,
   "metadata": {},
   "outputs": [],
   "source": [
    "tweets = st.read_users_from_json_lines_file('users.jl')"
   ]
  },
  {
   "cell_type": "code",
   "execution_count": null,
   "metadata": {},
   "outputs": [],
   "source": []
  }
 ],
 "metadata": {
  "kernelspec": {
   "display_name": "Python 3",
   "language": "python",
   "name": "python3"
  },
  "language_info": {
   "codemirror_mode": {
    "name": "ipython",
    "version": 3
   },
   "file_extension": ".py",
   "mimetype": "text/x-python",
   "name": "python",
   "nbconvert_exporter": "python",
   "pygments_lexer": "ipython3",
   "version": "3.8.3"
  }
 },
 "nbformat": 4,
 "nbformat_minor": 4
}
